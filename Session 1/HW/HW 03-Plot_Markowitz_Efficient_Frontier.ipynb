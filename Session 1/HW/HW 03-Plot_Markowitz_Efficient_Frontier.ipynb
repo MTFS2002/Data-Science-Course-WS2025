{
 "cells": [
  {
   "cell_type": "markdown",
   "metadata": {
    "id": "mTstYuOFTrjU"
   },
   "source": [
    "## Plot Markowitz Efficient Frontier\n",
    "\n",
    "In this homework, we try to plot the Markowitz Efficient Frontier using daily return of three assets.\n",
    "\n",
    "1. We load the daily closing stock prices of Apple Inc., FirstEnergy Corp., and Morgan Stanly for the last 20 years.\n",
    "\n",
    "2. We calculate daily returns\n",
    "\n",
    "3. We summarise the returns for each stock and calculate the covariance matrix of these assets\n",
    "\n",
    "4. We create randomly, weighted portfolios of these assets\n",
    "\n",
    "5. We calculate the expected return as well as expexted volatility for each of these portfolios\n",
    "\n",
    "6. We plot expected returns vs. expexted volatility\n",
    "\n",
    "![pic](https://upload.wikimedia.org/wikipedia/commons/e/e1/Markowitz_frontier.jpg)"
   ]
  },
  {
   "cell_type": "markdown",
   "metadata": {
    "id": "xO6xy9MbTrjX"
   },
   "source": [
    "* Import Numpy and Pandas"
   ]
  },
  {
   "cell_type": "code",
   "execution_count": null,
   "metadata": {},
   "outputs": [
    {
     "name": "stdout",
     "output_type": "stream",
     "text": [
      "Current working directory: C:\\Users\\baner\\Dropbox\\ML course\\Data Analytics Course\\Data Science Course WS2025\n"
     ]
    }
   ],
   "source": [
    "import os\n",
    "# documentation: https://docs.python.org/3/library/os.html\n",
    "\n",
    "# Set target directory path to SESSION 1 folder\n",
    "new_path = r\"C:\\Users\\sharafi\\Dropbox\\ML course\\Data Analytics Course\\Data Science Course WS2025\"  # use raw string or double backslashes on Windows\n",
    "\n",
    "# Change the current working directory\n",
    "os.chdir(new_path)\n",
    "\n",
    "# Optional: Verify current working directory\n",
    "print(\"Current working directory:\", os.getcwd()) \n"
   ]
  },
  {
   "cell_type": "code",
   "execution_count": 3,
   "metadata": {
    "executionInfo": {
     "elapsed": 1787,
     "status": "ok",
     "timestamp": 1749466762031,
     "user": {
      "displayName": "Arko Banerjee",
      "userId": "14872767172563580604"
     },
     "user_tz": -120
    },
    "id": "v67vLMg4TrjX"
   },
   "outputs": [],
   "source": [
    "import numpy as np\n",
    "import pandas as pd"
   ]
  },
  {
   "cell_type": "code",
   "execution_count": 4,
   "metadata": {
    "colab": {
     "base_uri": "https://localhost:8080/",
     "height": 423
    },
    "executionInfo": {
     "elapsed": 1387,
     "status": "ok",
     "timestamp": 1749466763440,
     "user": {
      "displayName": "Arko Banerjee",
      "userId": "14872767172563580604"
     },
     "user_tz": -120
    },
    "id": "C6pKLzNDTrjY",
    "outputId": "8eb5672f-71bd-409a-c637-923933996b1d"
   },
   "outputs": [
    {
     "data": {
      "text/html": [
       "<div>\n",
       "<style scoped>\n",
       "    .dataframe tbody tr th:only-of-type {\n",
       "        vertical-align: middle;\n",
       "    }\n",
       "\n",
       "    .dataframe tbody tr th {\n",
       "        vertical-align: top;\n",
       "    }\n",
       "\n",
       "    .dataframe thead th {\n",
       "        text-align: right;\n",
       "    }\n",
       "</style>\n",
       "<table border=\"1\" class=\"dataframe\">\n",
       "  <thead>\n",
       "    <tr style=\"text-align: right;\">\n",
       "      <th></th>\n",
       "      <th>PERMNO</th>\n",
       "      <th>date</th>\n",
       "      <th>TICKER</th>\n",
       "      <th>PRC</th>\n",
       "    </tr>\n",
       "  </thead>\n",
       "  <tbody>\n",
       "    <tr>\n",
       "      <th>0</th>\n",
       "      <td>14593</td>\n",
       "      <td>20000103</td>\n",
       "      <td>AAPL</td>\n",
       "      <td>111.9375</td>\n",
       "    </tr>\n",
       "    <tr>\n",
       "      <th>1</th>\n",
       "      <td>14593</td>\n",
       "      <td>20000104</td>\n",
       "      <td>AAPL</td>\n",
       "      <td>102.5000</td>\n",
       "    </tr>\n",
       "    <tr>\n",
       "      <th>2</th>\n",
       "      <td>14593</td>\n",
       "      <td>20000105</td>\n",
       "      <td>AAPL</td>\n",
       "      <td>104.0000</td>\n",
       "    </tr>\n",
       "    <tr>\n",
       "      <th>3</th>\n",
       "      <td>14593</td>\n",
       "      <td>20000106</td>\n",
       "      <td>AAPL</td>\n",
       "      <td>95.0000</td>\n",
       "    </tr>\n",
       "    <tr>\n",
       "      <th>4</th>\n",
       "      <td>14593</td>\n",
       "      <td>20000107</td>\n",
       "      <td>AAPL</td>\n",
       "      <td>99.5000</td>\n",
       "    </tr>\n",
       "    <tr>\n",
       "      <th>...</th>\n",
       "      <td>...</td>\n",
       "      <td>...</td>\n",
       "      <td>...</td>\n",
       "      <td>...</td>\n",
       "    </tr>\n",
       "    <tr>\n",
       "      <th>15848</th>\n",
       "      <td>69032</td>\n",
       "      <td>20201224</td>\n",
       "      <td>MS</td>\n",
       "      <td>68.0900</td>\n",
       "    </tr>\n",
       "    <tr>\n",
       "      <th>15849</th>\n",
       "      <td>69032</td>\n",
       "      <td>20201228</td>\n",
       "      <td>MS</td>\n",
       "      <td>68.0500</td>\n",
       "    </tr>\n",
       "    <tr>\n",
       "      <th>15850</th>\n",
       "      <td>69032</td>\n",
       "      <td>20201229</td>\n",
       "      <td>MS</td>\n",
       "      <td>67.7100</td>\n",
       "    </tr>\n",
       "    <tr>\n",
       "      <th>15851</th>\n",
       "      <td>69032</td>\n",
       "      <td>20201230</td>\n",
       "      <td>MS</td>\n",
       "      <td>67.8400</td>\n",
       "    </tr>\n",
       "    <tr>\n",
       "      <th>15852</th>\n",
       "      <td>69032</td>\n",
       "      <td>20201231</td>\n",
       "      <td>MS</td>\n",
       "      <td>68.5300</td>\n",
       "    </tr>\n",
       "  </tbody>\n",
       "</table>\n",
       "<p>15853 rows × 4 columns</p>\n",
       "</div>"
      ],
      "text/plain": [
       "       PERMNO      date TICKER       PRC\n",
       "0       14593  20000103   AAPL  111.9375\n",
       "1       14593  20000104   AAPL  102.5000\n",
       "2       14593  20000105   AAPL  104.0000\n",
       "3       14593  20000106   AAPL   95.0000\n",
       "4       14593  20000107   AAPL   99.5000\n",
       "...       ...       ...    ...       ...\n",
       "15848   69032  20201224     MS   68.0900\n",
       "15849   69032  20201228     MS   68.0500\n",
       "15850   69032  20201229     MS   67.7100\n",
       "15851   69032  20201230     MS   67.8400\n",
       "15852   69032  20201231     MS   68.5300\n",
       "\n",
       "[15853 rows x 4 columns]"
      ]
     },
     "execution_count": 4,
     "metadata": {},
     "output_type": "execute_result"
    }
   ],
   "source": [
    "# read and prepare the stock prices\n",
    "df= pd.read_csv('Input/001-HW2.csv')\n",
    "df"
   ]
  },
  {
   "cell_type": "code",
   "execution_count": 3,
   "metadata": {
    "colab": {
     "base_uri": "https://localhost:8080/",
     "height": 241
    },
    "executionInfo": {
     "elapsed": 42,
     "status": "ok",
     "timestamp": 1749466763484,
     "user": {
      "displayName": "Arko Banerjee",
      "userId": "14872767172563580604"
     },
     "user_tz": -120
    },
    "id": "DUMZaSnnTrjZ",
    "outputId": "fc6f8bbc-65e8-4b7e-8b37-b024ea182e01"
   },
   "outputs": [
    {
     "data": {
      "text/html": [
       "<div>\n",
       "<style scoped>\n",
       "    .dataframe tbody tr th:only-of-type {\n",
       "        vertical-align: middle;\n",
       "    }\n",
       "\n",
       "    .dataframe tbody tr th {\n",
       "        vertical-align: top;\n",
       "    }\n",
       "\n",
       "    .dataframe thead th {\n",
       "        text-align: right;\n",
       "    }\n",
       "</style>\n",
       "<table border=\"1\" class=\"dataframe\">\n",
       "  <thead>\n",
       "    <tr style=\"text-align: right;\">\n",
       "      <th></th>\n",
       "      <th>0</th>\n",
       "    </tr>\n",
       "    <tr>\n",
       "      <th>TICKER</th>\n",
       "      <th></th>\n",
       "    </tr>\n",
       "  </thead>\n",
       "  <tbody>\n",
       "    <tr>\n",
       "      <th>AAPL</th>\n",
       "      <td>5284</td>\n",
       "    </tr>\n",
       "    <tr>\n",
       "      <th>FE</th>\n",
       "      <td>5284</td>\n",
       "    </tr>\n",
       "    <tr>\n",
       "      <th>MS</th>\n",
       "      <td>3768</td>\n",
       "    </tr>\n",
       "    <tr>\n",
       "      <th>MWD</th>\n",
       "      <td>1517</td>\n",
       "    </tr>\n",
       "  </tbody>\n",
       "</table>\n",
       "</div><br><label><b>dtype:</b> int64</label>"
      ],
      "text/plain": [
       "TICKER\n",
       "AAPL    5284\n",
       "FE      5284\n",
       "MS      3768\n",
       "MWD     1517\n",
       "dtype: int64"
      ]
     },
     "execution_count": 3,
     "metadata": {},
     "output_type": "execute_result"
    }
   ],
   "source": [
    "df.groupby('TICKER').size()"
   ]
  },
  {
   "cell_type": "markdown",
   "metadata": {
    "id": "t9rDm1AuTrjZ"
   },
   "source": [
    "* Convert the integer dates to the **datetime** format to be readable by python"
   ]
  },
  {
   "cell_type": "code",
   "execution_count": 4,
   "metadata": {
    "executionInfo": {
     "elapsed": 5,
     "status": "ok",
     "timestamp": 1749466763502,
     "user": {
      "displayName": "Arko Banerjee",
      "userId": "14872767172563580604"
     },
     "user_tz": -120
    },
    "id": "hAFHR8RJTrjZ"
   },
   "outputs": [],
   "source": [
    "# df['date'] = ....\n",
    "\n",
    "# df"
   ]
  },
  {
   "cell_type": "markdown",
   "metadata": {
    "id": "tD3SZkWGTrjZ"
   },
   "source": [
    "* pivot the **df** and index it by date"
   ]
  },
  {
   "cell_type": "code",
   "execution_count": 5,
   "metadata": {
    "executionInfo": {
     "elapsed": 6,
     "status": "ok",
     "timestamp": 1749466763518,
     "user": {
      "displayName": "Arko Banerjee",
      "userId": "14872767172563580604"
     },
     "user_tz": -120
    },
    "id": "hgtsjHpGTrja"
   },
   "outputs": [],
   "source": [
    "# df= df.pivot(index='date', columns=['TICKER'],values=['PRC'])\n",
    "\n",
    "# df"
   ]
  },
  {
   "cell_type": "markdown",
   "metadata": {
    "id": "cZ5PXdziTrja"
   },
   "source": [
    "* Update the missing values of **MS** from **MWD** column\n",
    "* Drop the **MWD** column"
   ]
  },
  {
   "cell_type": "code",
   "execution_count": 6,
   "metadata": {
    "executionInfo": {
     "elapsed": 8,
     "status": "ok",
     "timestamp": 1749466763537,
     "user": {
      "displayName": "Arko Banerjee",
      "userId": "14872767172563580604"
     },
     "user_tz": -120
    },
    "id": "DNghj325Trja"
   },
   "outputs": [],
   "source": [
    "# df[('PRC',   'MS')].update(df[('PRC',  'MWD')])\n",
    "\n",
    "# df=df.drop(columns=[('PRC',  'MWD')])"
   ]
  },
  {
   "cell_type": "markdown",
   "metadata": {
    "id": "iazYejaETrjb"
   },
   "source": [
    "#### Calculate the logarithmic returns\n",
    "\n",
    "\n",
    "* $ Return = (\\frac{Price_t}{Price_{t-1}} -1 )* 100$\n",
    "\n",
    "* <details>\n",
    "<summary>HINT</summary>\n",
    "<p>\n",
    "DataFrame.shift(n) returns the n-th lag of a serie\n",
    "</p>"
   ]
  },
  {
   "cell_type": "code",
   "execution_count": 7,
   "metadata": {
    "executionInfo": {
     "elapsed": 20,
     "status": "ok",
     "timestamp": 1749466763572,
     "user": {
      "displayName": "Arko Banerjee",
      "userId": "14872767172563580604"
     },
     "user_tz": -120
    },
    "id": "lN-6vpr9Trjb"
   },
   "outputs": [],
   "source": [
    "\n",
    "# Return = ...\n",
    "\n",
    "# Return\n"
   ]
  },
  {
   "cell_type": "markdown",
   "metadata": {
    "id": "6-LTSRBxTrjb"
   },
   "source": [
    "* drop NaNs\n",
    "* <details>\n",
    "<summary>HINT</summary>\n",
    "<a href=\"https://pandas.pydata.org/pandas-docs/stable/reference/api/pandas.DataFrame.dropna.html\">\n",
    "this could be of help</a>"
   ]
  },
  {
   "cell_type": "code",
   "execution_count": 8,
   "metadata": {
    "executionInfo": {
     "elapsed": 2,
     "status": "ok",
     "timestamp": 1749466763611,
     "user": {
      "displayName": "Arko Banerjee",
      "userId": "14872767172563580604"
     },
     "user_tz": -120
    },
    "id": "45dQRbqWTrjb"
   },
   "outputs": [],
   "source": [
    "# Return = ..."
   ]
  },
  {
   "cell_type": "markdown",
   "metadata": {
    "id": "-3ngPV1bTrjb"
   },
   "source": [
    "### Create portfolios\n",
    "\n",
    "* Set **cnt_portfolios** as the number of protfolios we sample"
   ]
  },
  {
   "cell_type": "code",
   "execution_count": 9,
   "metadata": {
    "executionInfo": {
     "elapsed": 11,
     "status": "ok",
     "timestamp": 1749466763623,
     "user": {
      "displayName": "Arko Banerjee",
      "userId": "14872767172563580604"
     },
     "user_tz": -120
    },
    "id": "qxogkY9bTrjb"
   },
   "outputs": [],
   "source": [
    "cnt_portfolios = 5000"
   ]
  },
  {
   "cell_type": "markdown",
   "metadata": {
    "id": "eU6d5wFmTrjb"
   },
   "source": [
    "* Create random weights for each of these 3 assets in each portfolio"
   ]
  },
  {
   "cell_type": "code",
   "execution_count": 10,
   "metadata": {
    "colab": {
     "base_uri": "https://localhost:8080/",
     "height": 423
    },
    "executionInfo": {
     "elapsed": 3,
     "status": "ok",
     "timestamp": 1749466763628,
     "user": {
      "displayName": "Arko Banerjee",
      "userId": "14872767172563580604"
     },
     "user_tz": -120
    },
    "id": "hTCpieYGTrjb",
    "outputId": "12cf631e-77ef-4545-a265-b8cf1f6058fa"
   },
   "outputs": [
    {
     "data": {
      "application/vnd.google.colaboratory.intrinsic+json": {
       "summary": "{\n  \"name\": \"portfolios\",\n  \"rows\": 5000,\n  \"fields\": [\n    {\n      \"column\": \"w_1\",\n      \"properties\": {\n        \"dtype\": \"number\",\n        \"std\": 0.2922840410078033,\n        \"min\": 0.0002645464783689322,\n        \"max\": 0.9999207467264496,\n        \"num_unique_values\": 5000,\n        \"samples\": [\n          0.42327102875950173,\n          0.8908577451636684,\n          0.7138867153655348\n        ],\n        \"semantic_type\": \"\",\n        \"description\": \"\"\n      }\n    },\n    {\n      \"column\": \"w_2\",\n      \"properties\": {\n        \"dtype\": \"number\",\n        \"std\": 0.28762329507668594,\n        \"min\": 0.00014243947704140059,\n        \"max\": 0.9997276337467044,\n        \"num_unique_values\": 5000,\n        \"samples\": [\n          0.2889007081685122,\n          0.9897528717823135,\n          0.8163925903040231\n        ],\n        \"semantic_type\": \"\",\n        \"description\": \"\"\n      }\n    },\n    {\n      \"column\": \"w_3\",\n      \"properties\": {\n        \"dtype\": \"number\",\n        \"std\": 0.2889708994797606,\n        \"min\": 9.777999660454118e-05,\n        \"max\": 0.9999068067075785,\n        \"num_unique_values\": 5000,\n        \"samples\": [\n          0.7471961233238406,\n          0.32973454073190145,\n          0.5241180886581689\n        ],\n        \"semantic_type\": \"\",\n        \"description\": \"\"\n      }\n    }\n  ]\n}",
       "type": "dataframe",
       "variable_name": "portfolios"
      },
      "text/html": [
       "\n",
       "  <div id=\"df-f33419bd-c725-4e1f-b60f-481bbe29c539\" class=\"colab-df-container\">\n",
       "    <div>\n",
       "<style scoped>\n",
       "    .dataframe tbody tr th:only-of-type {\n",
       "        vertical-align: middle;\n",
       "    }\n",
       "\n",
       "    .dataframe tbody tr th {\n",
       "        vertical-align: top;\n",
       "    }\n",
       "\n",
       "    .dataframe thead th {\n",
       "        text-align: right;\n",
       "    }\n",
       "</style>\n",
       "<table border=\"1\" class=\"dataframe\">\n",
       "  <thead>\n",
       "    <tr style=\"text-align: right;\">\n",
       "      <th></th>\n",
       "      <th>w_1</th>\n",
       "      <th>w_2</th>\n",
       "      <th>w_3</th>\n",
       "    </tr>\n",
       "  </thead>\n",
       "  <tbody>\n",
       "    <tr>\n",
       "      <th>0</th>\n",
       "      <td>0.287285</td>\n",
       "      <td>0.671306</td>\n",
       "      <td>0.353375</td>\n",
       "    </tr>\n",
       "    <tr>\n",
       "      <th>1</th>\n",
       "      <td>0.556613</td>\n",
       "      <td>0.918406</td>\n",
       "      <td>0.622635</td>\n",
       "    </tr>\n",
       "    <tr>\n",
       "      <th>2</th>\n",
       "      <td>0.907906</td>\n",
       "      <td>0.546205</td>\n",
       "      <td>0.416483</td>\n",
       "    </tr>\n",
       "    <tr>\n",
       "      <th>3</th>\n",
       "      <td>0.112278</td>\n",
       "      <td>0.556289</td>\n",
       "      <td>0.695223</td>\n",
       "    </tr>\n",
       "    <tr>\n",
       "      <th>4</th>\n",
       "      <td>0.119550</td>\n",
       "      <td>0.428891</td>\n",
       "      <td>0.076678</td>\n",
       "    </tr>\n",
       "    <tr>\n",
       "      <th>...</th>\n",
       "      <td>...</td>\n",
       "      <td>...</td>\n",
       "      <td>...</td>\n",
       "    </tr>\n",
       "    <tr>\n",
       "      <th>4995</th>\n",
       "      <td>0.109767</td>\n",
       "      <td>0.463269</td>\n",
       "      <td>0.402064</td>\n",
       "    </tr>\n",
       "    <tr>\n",
       "      <th>4996</th>\n",
       "      <td>0.689820</td>\n",
       "      <td>0.077281</td>\n",
       "      <td>0.189190</td>\n",
       "    </tr>\n",
       "    <tr>\n",
       "      <th>4997</th>\n",
       "      <td>0.051342</td>\n",
       "      <td>0.772390</td>\n",
       "      <td>0.716471</td>\n",
       "    </tr>\n",
       "    <tr>\n",
       "      <th>4998</th>\n",
       "      <td>0.467069</td>\n",
       "      <td>0.342375</td>\n",
       "      <td>0.604060</td>\n",
       "    </tr>\n",
       "    <tr>\n",
       "      <th>4999</th>\n",
       "      <td>0.923856</td>\n",
       "      <td>0.988195</td>\n",
       "      <td>0.838404</td>\n",
       "    </tr>\n",
       "  </tbody>\n",
       "</table>\n",
       "<p>5000 rows × 3 columns</p>\n",
       "</div>\n",
       "    <div class=\"colab-df-buttons\">\n",
       "\n",
       "  <div class=\"colab-df-container\">\n",
       "    <button class=\"colab-df-convert\" onclick=\"convertToInteractive('df-f33419bd-c725-4e1f-b60f-481bbe29c539')\"\n",
       "            title=\"Convert this dataframe to an interactive table.\"\n",
       "            style=\"display:none;\">\n",
       "\n",
       "  <svg xmlns=\"http://www.w3.org/2000/svg\" height=\"24px\" viewBox=\"0 -960 960 960\">\n",
       "    <path d=\"M120-120v-720h720v720H120Zm60-500h600v-160H180v160Zm220 220h160v-160H400v160Zm0 220h160v-160H400v160ZM180-400h160v-160H180v160Zm440 0h160v-160H620v160ZM180-180h160v-160H180v160Zm440 0h160v-160H620v160Z\"/>\n",
       "  </svg>\n",
       "    </button>\n",
       "\n",
       "  <style>\n",
       "    .colab-df-container {\n",
       "      display:flex;\n",
       "      gap: 12px;\n",
       "    }\n",
       "\n",
       "    .colab-df-convert {\n",
       "      background-color: #E8F0FE;\n",
       "      border: none;\n",
       "      border-radius: 50%;\n",
       "      cursor: pointer;\n",
       "      display: none;\n",
       "      fill: #1967D2;\n",
       "      height: 32px;\n",
       "      padding: 0 0 0 0;\n",
       "      width: 32px;\n",
       "    }\n",
       "\n",
       "    .colab-df-convert:hover {\n",
       "      background-color: #E2EBFA;\n",
       "      box-shadow: 0px 1px 2px rgba(60, 64, 67, 0.3), 0px 1px 3px 1px rgba(60, 64, 67, 0.15);\n",
       "      fill: #174EA6;\n",
       "    }\n",
       "\n",
       "    .colab-df-buttons div {\n",
       "      margin-bottom: 4px;\n",
       "    }\n",
       "\n",
       "    [theme=dark] .colab-df-convert {\n",
       "      background-color: #3B4455;\n",
       "      fill: #D2E3FC;\n",
       "    }\n",
       "\n",
       "    [theme=dark] .colab-df-convert:hover {\n",
       "      background-color: #434B5C;\n",
       "      box-shadow: 0px 1px 3px 1px rgba(0, 0, 0, 0.15);\n",
       "      filter: drop-shadow(0px 1px 2px rgba(0, 0, 0, 0.3));\n",
       "      fill: #FFFFFF;\n",
       "    }\n",
       "  </style>\n",
       "\n",
       "    <script>\n",
       "      const buttonEl =\n",
       "        document.querySelector('#df-f33419bd-c725-4e1f-b60f-481bbe29c539 button.colab-df-convert');\n",
       "      buttonEl.style.display =\n",
       "        google.colab.kernel.accessAllowed ? 'block' : 'none';\n",
       "\n",
       "      async function convertToInteractive(key) {\n",
       "        const element = document.querySelector('#df-f33419bd-c725-4e1f-b60f-481bbe29c539');\n",
       "        const dataTable =\n",
       "          await google.colab.kernel.invokeFunction('convertToInteractive',\n",
       "                                                    [key], {});\n",
       "        if (!dataTable) return;\n",
       "\n",
       "        const docLinkHtml = 'Like what you see? Visit the ' +\n",
       "          '<a target=\"_blank\" href=https://colab.research.google.com/notebooks/data_table.ipynb>data table notebook</a>'\n",
       "          + ' to learn more about interactive tables.';\n",
       "        element.innerHTML = '';\n",
       "        dataTable['output_type'] = 'display_data';\n",
       "        await google.colab.output.renderOutput(dataTable, element);\n",
       "        const docLink = document.createElement('div');\n",
       "        docLink.innerHTML = docLinkHtml;\n",
       "        element.appendChild(docLink);\n",
       "      }\n",
       "    </script>\n",
       "  </div>\n",
       "\n",
       "\n",
       "    <div id=\"df-dec95036-8d2d-415f-8961-a0016cb06ed4\">\n",
       "      <button class=\"colab-df-quickchart\" onclick=\"quickchart('df-dec95036-8d2d-415f-8961-a0016cb06ed4')\"\n",
       "                title=\"Suggest charts\"\n",
       "                style=\"display:none;\">\n",
       "\n",
       "<svg xmlns=\"http://www.w3.org/2000/svg\" height=\"24px\"viewBox=\"0 0 24 24\"\n",
       "     width=\"24px\">\n",
       "    <g>\n",
       "        <path d=\"M19 3H5c-1.1 0-2 .9-2 2v14c0 1.1.9 2 2 2h14c1.1 0 2-.9 2-2V5c0-1.1-.9-2-2-2zM9 17H7v-7h2v7zm4 0h-2V7h2v10zm4 0h-2v-4h2v4z\"/>\n",
       "    </g>\n",
       "</svg>\n",
       "      </button>\n",
       "\n",
       "<style>\n",
       "  .colab-df-quickchart {\n",
       "      --bg-color: #E8F0FE;\n",
       "      --fill-color: #1967D2;\n",
       "      --hover-bg-color: #E2EBFA;\n",
       "      --hover-fill-color: #174EA6;\n",
       "      --disabled-fill-color: #AAA;\n",
       "      --disabled-bg-color: #DDD;\n",
       "  }\n",
       "\n",
       "  [theme=dark] .colab-df-quickchart {\n",
       "      --bg-color: #3B4455;\n",
       "      --fill-color: #D2E3FC;\n",
       "      --hover-bg-color: #434B5C;\n",
       "      --hover-fill-color: #FFFFFF;\n",
       "      --disabled-bg-color: #3B4455;\n",
       "      --disabled-fill-color: #666;\n",
       "  }\n",
       "\n",
       "  .colab-df-quickchart {\n",
       "    background-color: var(--bg-color);\n",
       "    border: none;\n",
       "    border-radius: 50%;\n",
       "    cursor: pointer;\n",
       "    display: none;\n",
       "    fill: var(--fill-color);\n",
       "    height: 32px;\n",
       "    padding: 0;\n",
       "    width: 32px;\n",
       "  }\n",
       "\n",
       "  .colab-df-quickchart:hover {\n",
       "    background-color: var(--hover-bg-color);\n",
       "    box-shadow: 0 1px 2px rgba(60, 64, 67, 0.3), 0 1px 3px 1px rgba(60, 64, 67, 0.15);\n",
       "    fill: var(--button-hover-fill-color);\n",
       "  }\n",
       "\n",
       "  .colab-df-quickchart-complete:disabled,\n",
       "  .colab-df-quickchart-complete:disabled:hover {\n",
       "    background-color: var(--disabled-bg-color);\n",
       "    fill: var(--disabled-fill-color);\n",
       "    box-shadow: none;\n",
       "  }\n",
       "\n",
       "  .colab-df-spinner {\n",
       "    border: 2px solid var(--fill-color);\n",
       "    border-color: transparent;\n",
       "    border-bottom-color: var(--fill-color);\n",
       "    animation:\n",
       "      spin 1s steps(1) infinite;\n",
       "  }\n",
       "\n",
       "  @keyframes spin {\n",
       "    0% {\n",
       "      border-color: transparent;\n",
       "      border-bottom-color: var(--fill-color);\n",
       "      border-left-color: var(--fill-color);\n",
       "    }\n",
       "    20% {\n",
       "      border-color: transparent;\n",
       "      border-left-color: var(--fill-color);\n",
       "      border-top-color: var(--fill-color);\n",
       "    }\n",
       "    30% {\n",
       "      border-color: transparent;\n",
       "      border-left-color: var(--fill-color);\n",
       "      border-top-color: var(--fill-color);\n",
       "      border-right-color: var(--fill-color);\n",
       "    }\n",
       "    40% {\n",
       "      border-color: transparent;\n",
       "      border-right-color: var(--fill-color);\n",
       "      border-top-color: var(--fill-color);\n",
       "    }\n",
       "    60% {\n",
       "      border-color: transparent;\n",
       "      border-right-color: var(--fill-color);\n",
       "    }\n",
       "    80% {\n",
       "      border-color: transparent;\n",
       "      border-right-color: var(--fill-color);\n",
       "      border-bottom-color: var(--fill-color);\n",
       "    }\n",
       "    90% {\n",
       "      border-color: transparent;\n",
       "      border-bottom-color: var(--fill-color);\n",
       "    }\n",
       "  }\n",
       "</style>\n",
       "\n",
       "      <script>\n",
       "        async function quickchart(key) {\n",
       "          const quickchartButtonEl =\n",
       "            document.querySelector('#' + key + ' button');\n",
       "          quickchartButtonEl.disabled = true;  // To prevent multiple clicks.\n",
       "          quickchartButtonEl.classList.add('colab-df-spinner');\n",
       "          try {\n",
       "            const charts = await google.colab.kernel.invokeFunction(\n",
       "                'suggestCharts', [key], {});\n",
       "          } catch (error) {\n",
       "            console.error('Error during call to suggestCharts:', error);\n",
       "          }\n",
       "          quickchartButtonEl.classList.remove('colab-df-spinner');\n",
       "          quickchartButtonEl.classList.add('colab-df-quickchart-complete');\n",
       "        }\n",
       "        (() => {\n",
       "          let quickchartButtonEl =\n",
       "            document.querySelector('#df-dec95036-8d2d-415f-8961-a0016cb06ed4 button');\n",
       "          quickchartButtonEl.style.display =\n",
       "            google.colab.kernel.accessAllowed ? 'block' : 'none';\n",
       "        })();\n",
       "      </script>\n",
       "    </div>\n",
       "\n",
       "  <div id=\"id_c8bbaca7-ebcf-4ca3-8acf-329c45ce6c34\">\n",
       "    <style>\n",
       "      .colab-df-generate {\n",
       "        background-color: #E8F0FE;\n",
       "        border: none;\n",
       "        border-radius: 50%;\n",
       "        cursor: pointer;\n",
       "        display: none;\n",
       "        fill: #1967D2;\n",
       "        height: 32px;\n",
       "        padding: 0 0 0 0;\n",
       "        width: 32px;\n",
       "      }\n",
       "\n",
       "      .colab-df-generate:hover {\n",
       "        background-color: #E2EBFA;\n",
       "        box-shadow: 0px 1px 2px rgba(60, 64, 67, 0.3), 0px 1px 3px 1px rgba(60, 64, 67, 0.15);\n",
       "        fill: #174EA6;\n",
       "      }\n",
       "\n",
       "      [theme=dark] .colab-df-generate {\n",
       "        background-color: #3B4455;\n",
       "        fill: #D2E3FC;\n",
       "      }\n",
       "\n",
       "      [theme=dark] .colab-df-generate:hover {\n",
       "        background-color: #434B5C;\n",
       "        box-shadow: 0px 1px 3px 1px rgba(0, 0, 0, 0.15);\n",
       "        filter: drop-shadow(0px 1px 2px rgba(0, 0, 0, 0.3));\n",
       "        fill: #FFFFFF;\n",
       "      }\n",
       "    </style>\n",
       "    <button class=\"colab-df-generate\" onclick=\"generateWithVariable('portfolios')\"\n",
       "            title=\"Generate code using this dataframe.\"\n",
       "            style=\"display:none;\">\n",
       "\n",
       "  <svg xmlns=\"http://www.w3.org/2000/svg\" height=\"24px\"viewBox=\"0 0 24 24\"\n",
       "       width=\"24px\">\n",
       "    <path d=\"M7,19H8.4L18.45,9,17,7.55,7,17.6ZM5,21V16.75L18.45,3.32a2,2,0,0,1,2.83,0l1.4,1.43a1.91,1.91,0,0,1,.58,1.4,1.91,1.91,0,0,1-.58,1.4L9.25,21ZM18.45,9,17,7.55Zm-12,3A5.31,5.31,0,0,0,4.9,8.1,5.31,5.31,0,0,0,1,6.5,5.31,5.31,0,0,0,4.9,4.9,5.31,5.31,0,0,0,6.5,1,5.31,5.31,0,0,0,8.1,4.9,5.31,5.31,0,0,0,12,6.5,5.46,5.46,0,0,0,6.5,12Z\"/>\n",
       "  </svg>\n",
       "    </button>\n",
       "    <script>\n",
       "      (() => {\n",
       "      const buttonEl =\n",
       "        document.querySelector('#id_c8bbaca7-ebcf-4ca3-8acf-329c45ce6c34 button.colab-df-generate');\n",
       "      buttonEl.style.display =\n",
       "        google.colab.kernel.accessAllowed ? 'block' : 'none';\n",
       "\n",
       "      buttonEl.onclick = () => {\n",
       "        google.colab.notebook.generateWithVariable('portfolios');\n",
       "      }\n",
       "      })();\n",
       "    </script>\n",
       "  </div>\n",
       "\n",
       "    </div>\n",
       "  </div>\n"
      ],
      "text/plain": [
       "           w_1       w_2       w_3\n",
       "0     0.287285  0.671306  0.353375\n",
       "1     0.556613  0.918406  0.622635\n",
       "2     0.907906  0.546205  0.416483\n",
       "3     0.112278  0.556289  0.695223\n",
       "4     0.119550  0.428891  0.076678\n",
       "...        ...       ...       ...\n",
       "4995  0.109767  0.463269  0.402064\n",
       "4996  0.689820  0.077281  0.189190\n",
       "4997  0.051342  0.772390  0.716471\n",
       "4998  0.467069  0.342375  0.604060\n",
       "4999  0.923856  0.988195  0.838404\n",
       "\n",
       "[5000 rows x 3 columns]"
      ]
     },
     "execution_count": 10,
     "metadata": {},
     "output_type": "execute_result"
    }
   ],
   "source": [
    "portfolios = pd.DataFrame(np.random.random((cnt_portfolios,3)), columns=['w_1','w_2','w_3'])\n",
    "\n",
    "portfolios"
   ]
  },
  {
   "cell_type": "markdown",
   "metadata": {
    "id": "S-nq4aD5Trjc"
   },
   "source": [
    "* Normalise weights to have $\\sum w_i = 1$"
   ]
  },
  {
   "cell_type": "code",
   "execution_count": 11,
   "metadata": {
    "executionInfo": {
     "elapsed": 44,
     "status": "ok",
     "timestamp": 1749466763674,
     "user": {
      "displayName": "Arko Banerjee",
      "userId": "14872767172563580604"
     },
     "user_tz": -120
    },
    "id": "Zy1Hd-6HTrjc"
   },
   "outputs": [],
   "source": [
    "# portfolios = ...\n",
    "\n",
    "# portfolios"
   ]
  },
  {
   "cell_type": "markdown",
   "metadata": {
    "id": "cKE_MyHZTrjc"
   },
   "source": [
    "* Calculate the annulised return **Ret**\n",
    "\n",
    "* Calculate the covariance matrix of the stocks **SD**"
   ]
  },
  {
   "cell_type": "code",
   "execution_count": 12,
   "metadata": {
    "executionInfo": {
     "elapsed": 3,
     "status": "ok",
     "timestamp": 1749466763675,
     "user": {
      "displayName": "Arko Banerjee",
      "userId": "14872767172563580604"
     },
     "user_tz": -120
    },
    "id": "N_ehPZEPTrjc"
   },
   "outputs": [],
   "source": [
    "# Ret = Return.mean().values * 252\n",
    "# SD  = Return.cov().values *252\n",
    "\n",
    "# print(Ret)\n",
    "# print(SD)"
   ]
  },
  {
   "cell_type": "markdown",
   "metadata": {
    "id": "m7Z--ltETrjc"
   },
   "source": [
    "* Calculate the expected return for each portfolio\n",
    "\n",
    "* $Ret_p = \\sum (w_i * \\bar{Ret_i}) $\n",
    "\n"
   ]
  },
  {
   "cell_type": "code",
   "execution_count": 13,
   "metadata": {
    "executionInfo": {
     "elapsed": 2,
     "status": "ok",
     "timestamp": 1749466763687,
     "user": {
      "displayName": "Arko Banerjee",
      "userId": "14872767172563580604"
     },
     "user_tz": -120
    },
    "id": "tmO91TTaTrjc"
   },
   "outputs": [],
   "source": [
    "# portfolios['E_ret'] = portfolios[['w_1','w_2','w_3']].apply(...,  axis=1)\n",
    "\n",
    "# portfolios"
   ]
  },
  {
   "cell_type": "markdown",
   "metadata": {
    "id": "jmiSy3zZTrjc"
   },
   "source": [
    "* Calculate the expected volatility for each portfolio\n",
    "\n",
    "\n",
    "\n",
    "* <p>$σ_p$</sub> = (w<sub>1</sub><sup>2</sup>σ<sub>1</sub><sup>2</sup> + w<sub>2</sub><sup>2</sup> σ<sub>2</sub><sup>2</sup> + w<sub>3</sub><sup>2</sup>σ<sub>3</sub><sup>2</sup> + 2w<sub>1</sub>w<sub>2</sub>σ<sub>1</sub>σ<sub>2</sub>ρ<sub>12</sub> + 2w<sub>2</sub>w<sub>3</sub>σ<sub>2</sub>σ<sub>3</sub>ρ<sub>23</sub> + 2w<sub>1</sub>w<sub>3</sub>σ<sub>1</sub>σ<sub>3</sub>ρ<sub>13</sub>)<sup>1/2</sup><span id=\"ezoic-pub-ad-placeholder-105\" class=\"ezoic-adpicker-ad\"></span><span class=\"ezoic-ad medrectangle-3 medrectangle-3105 adtester-container adtester-container-105\" data-ez-name=\"xplaind_com-medrectangle-3\" style=\"\"><span id=\"div-gpt-ad-xplaind_com-medrectangle-3-0\" ezaw=\"300\" ezah=\"250\" style=\"position: relative; z-index: 0; display: inline-block; min-height: 250px; min-width: 300px;\" class=\"ezoic-ad\"><script data-ezscrex=\"false\" data-cfasync=\"false\" type=\"text/javascript\" style=\"display:none;\">eval(ez_write_tag([[300,250],'xplaind_com-medrectangle-3','ezslot_1',105,'0','0']));</script><div id=\"google_ads_iframe_/1254144/xplaind_com-medrectangle-3_0__container__\" style=\"border: 0pt none; width: 300px; height: 250px;\"></div></span></span></p>\n",
    "\n",
    "* $σ_p$ = $ \\sqrt( (cov \\cdot W) \\cdot W )$  :: dimensions: ((3 * 3) $\\cdot$ (3 * 1)) $\\cdot$ (1 * 3) = 1  \n",
    "\n",
    "* <details>\n",
    "<summary>HINT</summary>\n",
    "<p> Consider Numpy.dot() for dot products of matrices"
   ]
  },
  {
   "cell_type": "code",
   "execution_count": 14,
   "metadata": {
    "executionInfo": {
     "elapsed": 1,
     "status": "ok",
     "timestamp": 1749466763729,
     "user": {
      "displayName": "Arko Banerjee",
      "userId": "14872767172563580604"
     },
     "user_tz": -120
    },
    "id": "sQQHEPipTrjc"
   },
   "outputs": [],
   "source": [
    "# portfolios['E_sd'] = portfolios[['w_1','w_2','w_3']].apply(lambda W: np.sqrt(np.dot(np.dot(SD, W),W)),  axis=1)\n",
    "\n",
    "# portfolios"
   ]
  },
  {
   "cell_type": "markdown",
   "metadata": {
    "id": "sutsfOLKTrjc"
   },
   "source": [
    "* Plot it!"
   ]
  },
  {
   "cell_type": "code",
   "execution_count": 15,
   "metadata": {
    "executionInfo": {
     "elapsed": 26,
     "status": "ok",
     "timestamp": 1749466763757,
     "user": {
      "displayName": "Arko Banerjee",
      "userId": "14872767172563580604"
     },
     "user_tz": -120
    },
    "id": "KnxHEoSzTrjc"
   },
   "outputs": [],
   "source": [
    "# portfolios.plot.scatter('E_sd','E_ret')"
   ]
  },
  {
   "cell_type": "markdown",
   "metadata": {
    "id": "npX6IojxTrjd"
   },
   "source": [
    "* Check alternative approaches for example here: https://towardsdatascience.com/python-markowitz-optimization-b5e1623060f5"
   ]
  }
 ],
 "metadata": {
  "colab": {
   "provenance": []
  },
  "kernelspec": {
   "display_name": "Global_use",
   "language": "python",
   "name": "python3"
  },
  "language_info": {
   "codemirror_mode": {
    "name": "ipython",
    "version": 3
   },
   "file_extension": ".py",
   "mimetype": "text/x-python",
   "name": "python",
   "nbconvert_exporter": "python",
   "pygments_lexer": "ipython3",
   "version": "3.11.13"
  }
 },
 "nbformat": 4,
 "nbformat_minor": 0
}
