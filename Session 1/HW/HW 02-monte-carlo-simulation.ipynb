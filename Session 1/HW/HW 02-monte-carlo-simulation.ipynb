{
 "cells": [
  {
   "cell_type": "markdown",
   "metadata": {
    "papermill": {
     "duration": 0.011445,
     "end_time": "2022-10-24T11:41:48.876680",
     "exception": false,
     "start_time": "2022-10-24T11:41:48.865235",
     "status": "completed"
    },
    "tags": []
   },
   "source": [
    "# Monte carlo simulation\n",
    "\n",
    "We want to use a MC simulation to view a long term expected portfolio growth based on a certain risk/return appetite, using Numpy library in Python.\n",
    "\n",
    "\n",
    "* first import the Numpy Library\n"
   ]
  },
  {
   "cell_type": "code",
   "execution_count": 1,
   "metadata": {
    "_cell_guid": "79c7e3d0-c299-4dcb-8224-4455121ee9b0",
    "_uuid": "d629ff2d2480ee46fbb7e2d37f6b5fab8052498a",
    "execution": {
     "iopub.execute_input": "2022-10-24T11:41:48.901226Z",
     "iopub.status.busy": "2022-10-24T11:41:48.900448Z",
     "iopub.status.idle": "2022-10-24T11:41:48.908624Z",
     "shell.execute_reply": "2022-10-24T11:41:48.909196Z",
     "shell.execute_reply.started": "2021-10-25T09:30:48.406033Z"
    },
    "papermill": {
     "duration": 0.022275,
     "end_time": "2022-10-24T11:41:48.909447",
     "exception": false,
     "start_time": "2022-10-24T11:41:48.887172",
     "status": "completed"
    },
    "tags": []
   },
   "outputs": [],
   "source": [
    "#libraries you will need\n",
    "import numpy as np\n",
    "\n",
    "\n",
    "# There are some plotings... Don't worry about them yet\n",
    "%matplotlib inline\n",
    "import matplotlib.pyplot as plt"
   ]
  },
  {
   "cell_type": "markdown",
   "metadata": {
    "papermill": {
     "duration": 0.010084,
     "end_time": "2022-10-24T11:41:48.930534",
     "exception": false,
     "start_time": "2022-10-24T11:41:48.920450",
     "status": "completed"
    },
    "tags": []
   },
   "source": [
    "### Let's define our settings\n"
   ]
  },
  {
   "cell_type": "code",
   "execution_count": 2,
   "metadata": {
    "execution": {
     "iopub.execute_input": "2022-10-24T11:41:48.957957Z",
     "iopub.status.busy": "2022-10-24T11:41:48.957269Z",
     "iopub.status.idle": "2022-10-24T11:41:48.959277Z",
     "shell.execute_reply": "2022-10-24T11:41:48.959870Z",
     "shell.execute_reply.started": "2021-10-22T08:49:04.953402Z"
    },
    "papermill": {
     "duration": 0.019228,
     "end_time": "2022-10-24T11:41:48.960170",
     "exception": false,
     "start_time": "2022-10-24T11:41:48.940942",
     "status": "completed"
    },
    "tags": []
   },
   "outputs": [],
   "source": [
    "iterations = 1000         #number of iterations for simulation\n",
    "time_horizon = 20         # number of years for the simulation \n",
    "expected_return = .07     # expected annual return for the simulated time\n",
    "volatility = .15          # volatility of portfolio return\n",
    "InitialValue=1            # Initial investment amount for the first year\n",
    "\n"
   ]
  },
  {
   "cell_type": "markdown",
   "metadata": {
    "papermill": {
     "duration": 0.009966,
     "end_time": "2022-10-24T11:41:48.980791",
     "exception": false,
     "start_time": "2022-10-24T11:41:48.970825",
     "status": "completed"
    },
    "tags": []
   },
   "source": [
    "#### 1- Define the matrix of returns \n",
    "\n",
    "* define a matrix of random returns based on the expected_return & volatilty\n",
    "\n",
    "* matrix size should be __time_horizon * iterations__"
   ]
  },
  {
   "cell_type": "code",
   "execution_count": 3,
   "metadata": {
    "execution": {
     "iopub.execute_input": "2022-10-24T11:41:49.005509Z",
     "iopub.status.busy": "2022-10-24T11:41:49.004716Z",
     "iopub.status.idle": "2022-10-24T11:41:49.008348Z",
     "shell.execute_reply": "2022-10-24T11:41:49.008939Z",
     "shell.execute_reply.started": "2021-10-22T08:49:04.960502Z"
    },
    "papermill": {
     "duration": 0.017964,
     "end_time": "2022-10-24T11:41:49.009127",
     "exception": false,
     "start_time": "2022-10-24T11:41:48.991163",
     "status": "completed"
    },
    "tags": []
   },
   "outputs": [],
   "source": [
    "# returns = np.random.normal(...,...,(time_horizon,...))"
   ]
  },
  {
   "cell_type": "markdown",
   "metadata": {
    "papermill": {
     "duration": 0.009905,
     "end_time": "2022-10-24T11:41:49.029465",
     "exception": false,
     "start_time": "2022-10-24T11:41:49.019560",
     "status": "completed"
    },
    "tags": []
   },
   "source": [
    "* let's plot the returns:\n"
   ]
  },
  {
   "cell_type": "code",
   "execution_count": 4,
   "metadata": {
    "execution": {
     "iopub.execute_input": "2022-10-24T11:41:49.054286Z",
     "iopub.status.busy": "2022-10-24T11:41:49.053501Z",
     "iopub.status.idle": "2022-10-24T11:41:49.056830Z",
     "shell.execute_reply": "2022-10-24T11:41:49.057405Z",
     "shell.execute_reply.started": "2021-10-22T08:49:04.975074Z"
    },
    "papermill": {
     "duration": 0.017789,
     "end_time": "2022-10-24T11:41:49.057595",
     "exception": false,
     "start_time": "2022-10-24T11:41:49.039806",
     "status": "completed"
    },
    "tags": []
   },
   "outputs": [],
   "source": [
    "# plt.plot(returns[1:,:]-1)\n",
    "# plt.show()"
   ]
  },
  {
   "cell_type": "markdown",
   "metadata": {
    "papermill": {
     "duration": 0.009942,
     "end_time": "2022-10-24T11:41:49.078103",
     "exception": false,
     "start_time": "2022-10-24T11:41:49.068161",
     "status": "completed"
    },
    "tags": []
   },
   "source": [
    "### Cumulate the return\n",
    " \n",
    "* Comulated return at year $t$ is $\\prod_{1:t} (1+ret)$\n",
    " \n",
    "* use __np.comprod__ for comulative return calculations. \n",
    "> be careful! you need to specify on which dimention of the matrix you need the cumulative product"
   ]
  },
  {
   "cell_type": "code",
   "execution_count": 5,
   "metadata": {
    "execution": {
     "iopub.execute_input": "2022-10-24T11:41:49.102598Z",
     "iopub.status.busy": "2022-10-24T11:41:49.101727Z",
     "iopub.status.idle": "2022-10-24T11:41:49.105238Z",
     "shell.execute_reply": "2022-10-24T11:41:49.105810Z",
     "shell.execute_reply.started": "2021-10-22T08:49:06.439702Z"
    },
    "papermill": {
     "duration": 0.01763,
     "end_time": "2022-10-24T11:41:49.106005",
     "exception": false,
     "start_time": "2022-10-24T11:41:49.088375",
     "status": "completed"
    },
    "tags": []
   },
   "outputs": [],
   "source": [
    "# returns = returns +1\n",
    "# returns[0,:]=...\n",
    "# SimulatedPortfolios = returns.cumprod(...)\n"
   ]
  },
  {
   "cell_type": "markdown",
   "metadata": {
    "papermill": {
     "duration": 0.011511,
     "end_time": "2022-10-24T11:41:49.128418",
     "exception": false,
     "start_time": "2022-10-24T11:41:49.116907",
     "status": "completed"
    },
    "tags": []
   },
   "source": [
    "* Plot the simulated portfolios"
   ]
  },
  {
   "cell_type": "code",
   "execution_count": 6,
   "metadata": {
    "execution": {
     "iopub.execute_input": "2022-10-24T11:41:49.152582Z",
     "iopub.status.busy": "2022-10-24T11:41:49.151859Z",
     "iopub.status.idle": "2022-10-24T11:41:49.156264Z",
     "shell.execute_reply": "2022-10-24T11:41:49.156782Z",
     "shell.execute_reply.started": "2021-10-22T08:49:06.448563Z"
    },
    "papermill": {
     "duration": 0.01845,
     "end_time": "2022-10-24T11:41:49.157016",
     "exception": false,
     "start_time": "2022-10-24T11:41:49.138566",
     "status": "completed"
    },
    "tags": []
   },
   "outputs": [],
   "source": [
    "# plt.plot(SimulatedPortfolios)\n",
    "# plt.show()"
   ]
  },
  {
   "cell_type": "markdown",
   "metadata": {
    "papermill": {
     "duration": 0.009962,
     "end_time": "2022-10-24T11:41:49.177483",
     "exception": false,
     "start_time": "2022-10-24T11:41:49.167521",
     "status": "completed"
    },
    "tags": []
   },
   "source": [
    "# Let's analyse the final year values\n"
   ]
  },
  {
   "cell_type": "code",
   "execution_count": 7,
   "metadata": {
    "execution": {
     "iopub.execute_input": "2022-10-24T11:41:49.202496Z",
     "iopub.status.busy": "2022-10-24T11:41:49.201714Z",
     "iopub.status.idle": "2022-10-24T11:41:49.205027Z",
     "shell.execute_reply": "2022-10-24T11:41:49.205700Z",
     "shell.execute_reply.started": "2021-10-22T08:49:07.816734Z"
    },
    "papermill": {
     "duration": 0.018069,
     "end_time": "2022-10-24T11:41:49.205880",
     "exception": false,
     "start_time": "2022-10-24T11:41:49.187811",
     "status": "completed"
    },
    "tags": []
   },
   "outputs": [],
   "source": [
    "# FinalYearValues= SimulatedPortfolios[...,:]"
   ]
  },
  {
   "cell_type": "markdown",
   "metadata": {
    "papermill": {
     "duration": 0.010032,
     "end_time": "2022-10-24T11:41:49.226440",
     "exception": false,
     "start_time": "2022-10-24T11:41:49.216408",
     "status": "completed"
    },
    "tags": []
   },
   "source": [
    "Discuss the following summary statistics:"
   ]
  },
  {
   "cell_type": "code",
   "execution_count": 8,
   "metadata": {
    "execution": {
     "iopub.execute_input": "2022-10-24T11:41:49.251877Z",
     "iopub.status.busy": "2022-10-24T11:41:49.250784Z",
     "iopub.status.idle": "2022-10-24T11:41:49.254887Z",
     "shell.execute_reply": "2022-10-24T11:41:49.255499Z",
     "shell.execute_reply.started": "2021-10-22T08:49:07.824448Z"
    },
    "papermill": {
     "duration": 0.018949,
     "end_time": "2022-10-24T11:41:49.255685",
     "exception": false,
     "start_time": "2022-10-24T11:41:49.236736",
     "status": "completed"
    },
    "tags": []
   },
   "outputs": [],
   "source": [
    "# # Some insights from the data\n",
    "# print(\"Count: \", len(FinalYearValues))\n",
    "# print(\"Mean:  \", np.mean(FinalYearValues))\n",
    "# print(\"Theoritical return:\", InitialValue * np.power(1+expected_return,time_horizon))\n",
    "# print(\"SD:    \",np.std(FinalYearValues))\n",
    "# print(\"Max:   \",np.max(FinalYearValues))\n",
    "# print(\"Min:   \", np.min(FinalYearValues))"
   ]
  },
  {
   "cell_type": "markdown",
   "metadata": {
    "papermill": {
     "duration": 0.009962,
     "end_time": "2022-10-24T11:41:49.275913",
     "exception": false,
     "start_time": "2022-10-24T11:41:49.265951",
     "status": "completed"
    },
    "tags": []
   },
   "source": [
    "## Further Questions\n",
    "1. What are the use cases of Monte Carlo simulation in finance? \n",
    "1. Do I need to correct the value I assume for the time_horizon? discuss...\n",
    "2. Will market behave according to the normal distribution? discuss the alternatives. "
   ]
  }
 ],
 "metadata": {
  "kernelspec": {
   "display_name": "Python 3",
   "language": "python",
   "name": "python3"
  },
  "language_info": {
   "codemirror_mode": {
    "name": "ipython",
    "version": 3
   },
   "file_extension": ".py",
   "mimetype": "text/x-python",
   "name": "python",
   "nbconvert_exporter": "python",
   "pygments_lexer": "ipython3",
   "version": "3.7.6"
  },
  "papermill": {
   "duration": 5.598464,
   "end_time": "2022-10-24T11:41:49.395426",
   "environment_variables": {},
   "exception": null,
   "input_path": "__notebook__.ipynb",
   "output_path": "__notebook__.ipynb",
   "parameters": {},
   "start_time": "2022-10-24T11:41:43.796962",
   "version": "2.1.0"
  }
 },
 "nbformat": 4,
 "nbformat_minor": 4
}
